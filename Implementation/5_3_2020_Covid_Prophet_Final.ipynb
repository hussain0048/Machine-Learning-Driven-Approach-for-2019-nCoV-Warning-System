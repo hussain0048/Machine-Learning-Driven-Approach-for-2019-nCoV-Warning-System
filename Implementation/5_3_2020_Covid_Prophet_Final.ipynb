{
  "nbformat": 4,
  "nbformat_minor": 0,
  "metadata": {
    "kernelspec": {
      "display_name": "Python 3",
      "language": "python",
      "name": "python3"
    },
    "language_info": {
      "codemirror_mode": {
        "name": "ipython",
        "version": 3
      },
      "file_extension": ".py",
      "mimetype": "text/x-python",
      "name": "python",
      "nbconvert_exporter": "python",
      "pygments_lexer": "ipython3",
      "version": "3.6.6"
    },
    "colab": {
      "name": " 5-3-2020 Covid_Prophet_Final.ipynb",
      "provenance": [],
      "collapsed_sections": [],
      "toc_visible": true,
      "machine_shape": "hm",
      "include_colab_link": true
    }
  },
  "cells": [
    {
      "cell_type": "markdown",
      "metadata": {
        "id": "view-in-github",
        "colab_type": "text"
      },
      "source": [
        "<a href=\"https://colab.research.google.com/github/hussain0048/Machine-Learning-Driven-Approach-for-2019-nCoV-Warning-System/blob/master/Implementation/5_3_2020_Covid_Prophet_Final.ipynb\" target=\"_parent\"><img src=\"https://colab.research.google.com/assets/colab-badge.svg\" alt=\"Open In Colab\"/></a>"
      ]
    },
    {
      "cell_type": "markdown",
      "metadata": {
        "id": "FfcjS4CKTyAP"
      },
      "source": [
        "# **1-Introducton** \n",
        "\n",
        "Predicting confirmed cases of Convid-19 with Prophet"
      ]
    },
    {
      "cell_type": "markdown",
      "metadata": {
        "id": "r609ISbsmq2t"
      },
      "source": [
        "#**2-Importing necessary libraries**"
      ]
    },
    {
      "cell_type": "code",
      "metadata": {
        "id": "FxdLWHIJTyAU"
      },
      "source": [
        "import pandas as pd\n",
        "import numpy as np\n",
        "from fbprophet import Prophet\n",
        "import matplotlib.pyplot as plt\n",
        " \n",
        "plt.rcParams['figure.figsize']=(20,10)\n",
        "plt.style.use('ggplot')"
      ],
      "execution_count": 2,
      "outputs": []
    },
    {
      "cell_type": "code",
      "metadata": {
        "id": "5NeSSztObv-7"
      },
      "source": [
        "plt.rcParams['figure.figsize']=(20,10)\n",
        "plt.style.use('ggplot')"
      ],
      "execution_count": 3,
      "outputs": []
    },
    {
      "cell_type": "code",
      "metadata": {
        "id": "XhadCtyRcFFY"
      },
      "source": [
        "pd.plotting.register_matplotlib_converters()"
      ],
      "execution_count": 4,
      "outputs": []
    },
    {
      "cell_type": "code",
      "metadata": {
        "id": "-vcGxjHQGL1c"
      },
      "source": [
        "#[3]\n",
        "import warnings\n",
        "warnings.filterwarnings('ignore')\n",
        "\n",
        "import numpy as np\n",
        "import pandas as pd\n",
        "from scipy import stats\n",
        "import statsmodels.api as sm\n",
        "import matplotlib.pyplot as plt\n",
        "\n",
        "%matplotlib inline"
      ],
      "execution_count": 5,
      "outputs": []
    },
    {
      "cell_type": "code",
      "metadata": {
        "id": "d17uQ_kpKn5w"
      },
      "source": [
        "from fbprophet import Prophet\n",
        "\n",
        "import logging\n",
        "logging.getLogger().setLevel(logging.ERROR)"
      ],
      "execution_count": 6,
      "outputs": []
    },
    {
      "cell_type": "markdown",
      "metadata": {
        "id": "X5p8oL_STyAg"
      },
      "source": [
        "#**3-Import dataset**"
      ]
    },
    {
      "cell_type": "code",
      "metadata": {
        "id": "4lsb_UGenA-Y",
        "outputId": "70bd3db4-797d-407c-88b1-0cf5182a48d2",
        "colab": {
          "base_uri": "https://localhost:8080/"
        }
      },
      "source": [
        "from google.colab import drive\n",
        "drive.mount('/content/drive')"
      ],
      "execution_count": 7,
      "outputs": [
        {
          "output_type": "stream",
          "text": [
            "Mounted at /content/drive\n"
          ],
          "name": "stdout"
        }
      ]
    },
    {
      "cell_type": "code",
      "metadata": {
        "id": "RDKPEa7keRWE"
      },
      "source": [
        "data = pd.read_csv(\"/content/drive/My Drive/Datasets/Covid-19/data_cases1.csv\", usecols=['Date','Confirmed'],index_col='Date', parse_dates=True )\n",
        "data.head()"
      ],
      "execution_count": null,
      "outputs": []
    },
    {
      "cell_type": "code",
      "metadata": {
        "id": "_qRu1k2Dyt2O"
      },
      "source": [
        "data.head()"
      ],
      "execution_count": null,
      "outputs": []
    },
    {
      "cell_type": "code",
      "metadata": {
        "id": "t-E75RQRTyAx"
      },
      "source": [
        "data.shape"
      ],
      "execution_count": null,
      "outputs": []
    },
    {
      "cell_type": "markdown",
      "metadata": {
        "id": "R8BthJfITyBS"
      },
      "source": [
        "#**4-Data cleaning and feature engineering**"
      ]
    },
    {
      "cell_type": "code",
      "metadata": {
        "id": "Ns2tk6CCGzDo"
      },
      "source": [
        "df = data.reset_index()"
      ],
      "execution_count": 11,
      "outputs": []
    },
    {
      "cell_type": "code",
      "metadata": {
        "id": "WGxkU_bZ_eoq"
      },
      "source": [
        "df.head()"
      ],
      "execution_count": null,
      "outputs": []
    },
    {
      "cell_type": "code",
      "metadata": {
        "id": "wiEfm8xA9Cb4"
      },
      "source": [
        "#we get rid of possible duplicates and missing values in the data [3]\n",
        "df = df[['Date', 'Confirmed']].dropna().drop_duplicates()"
      ],
      "execution_count": 13,
      "outputs": []
    },
    {
      "cell_type": "code",
      "metadata": {
        "id": "fqj24WXrFwbV",
        "outputId": "8bd45a73-a772-48f3-c96f-c05f27829a71",
        "colab": {
          "base_uri": "https://localhost:8080/"
        }
      },
      "source": [
        "df.shape"
      ],
      "execution_count": 14,
      "outputs": [
        {
          "output_type": "execute_result",
          "data": {
            "text/plain": [
              "(1157, 2)"
            ]
          },
          "metadata": {
            "tags": []
          },
          "execution_count": 14
        }
      ]
    },
    {
      "cell_type": "code",
      "metadata": {
        "id": "8oKf0uV2GG02"
      },
      "source": [
        "#we need to convert Date to the datetime format because by default pandas treats this field as string-valued[3]\n",
        "df['Date'] = pd.to_datetime(df['Date'])"
      ],
      "execution_count": 15,
      "outputs": []
    },
    {
      "cell_type": "code",
      "metadata": {
        "id": "ijc8tkqbGqpE"
      },
      "source": [
        "df.head()"
      ],
      "execution_count": null,
      "outputs": []
    },
    {
      "cell_type": "code",
      "metadata": {
        "id": "-cnFzmAAHIWq"
      },
      "source": [
        "#Let's sort the dataframe by time and take a look at what we've got [3]\n",
        "df.sort_values(by=['Date']).head(n=3)"
      ],
      "execution_count": null,
      "outputs": []
    },
    {
      "cell_type": "code",
      "metadata": {
        "id": "vegTUwkq9kw8"
      },
      "source": [
        "#We will just trim our time series to keep only those rows that fall onto the period from March 10, 2020 to March 31, 2020[3]\n",
        "df = df[(df['Date'] > '2020-03-09') & (df['Date'] < '2020-04-01')].sort_values(by=['Date'])\n",
        "df.head(n=10)"
      ],
      "execution_count": null,
      "outputs": []
    },
    {
      "cell_type": "code",
      "metadata": {
        "id": "rahdPkyK-81A"
      },
      "source": [
        "#As we are going to predict the number of confirm Cases of Covid-19, we will aggregate and count unique Cases at each given point in time. We will name the corresponding new column Confirmed_Cases:\n",
        "aggr_df = df.groupby('Date')[['Confirmed']].count()\n",
        "aggr_df.columns = ['Confirmed_Cases']"
      ],
      "execution_count": 19,
      "outputs": []
    },
    {
      "cell_type": "code",
      "metadata": {
        "id": "K-av4_rg_pfa"
      },
      "source": [
        "aggr_df.head(n=3)\n"
      ],
      "execution_count": null,
      "outputs": []
    },
    {
      "cell_type": "code",
      "metadata": {
        "id": "8WPfYYLU_6dD"
      },
      "source": [
        "#In this practice, we are interested in the number of confirmed cases a day. But at this moment all our data is divided into irregular time intervals that are less than a day. \n",
        "#This is called a sub-daily time series.To fix this, we need to aggregate the Cases counts by \"bins\" of a date size. \n",
        "#In time series analysis, this process is referred to as resampling. And if we reduce the sampling rate of data it is often called downsampling.\n",
        "#Luckily, pandas has a built-in functionality for this task. We will resample our time index down to 1-day bins [3]\n",
        "daily_df = aggr_df.resample('D').apply(sum)\n",
        "daily_df.head(n=3)"
      ],
      "execution_count": null,
      "outputs": []
    },
    {
      "cell_type": "code",
      "metadata": {
        "id": "9n0GTxkvAeq5"
      },
      "source": [
        "weekly_df = daily_df.resample('W').apply(sum)"
      ],
      "execution_count": 22,
      "outputs": []
    },
    {
      "cell_type": "code",
      "metadata": {
        "id": "SUR6GRnOJp5T"
      },
      "source": [
        "weekly_df.head()"
      ],
      "execution_count": null,
      "outputs": []
    },
    {
      "cell_type": "code",
      "metadata": {
        "id": "lVCbk-vsAz-n"
      },
      "source": [
        "daily_df = daily_df.loc[daily_df.index >= '2020-03-10']\n",
        "daily_df.head(n=3)"
      ],
      "execution_count": null,
      "outputs": []
    },
    {
      "cell_type": "code",
      "metadata": {
        "id": "ZQLlg3g4OvWh"
      },
      "source": [
        "plt.figure(figsize=(16,8))\n",
        "plt.title('Daily Confirmed Cases of COVID-19 (World)')\n",
        "plt.plot(daily_df['Confirmed_Cases'])\n",
        "plt.xlabel('Date', fontsize=18)\n",
        "plt.ylabel('Confirmed Cases', fontsize=18)\n",
        "plt.show()"
      ],
      "execution_count": null,
      "outputs": []
    },
    {
      "cell_type": "markdown",
      "metadata": {
        "id": "C8ivtMFNTyEs"
      },
      "source": [
        "#**5- Modelling**\n",
        "\n",
        "Let's focus on predictig the confirmed cases of COVI-ID.Prophet's API is very similar to the one you can find in sklearn. First we create a model, then call the method fit, and, finally, make a forecast. The input to the method fit is a DataFrame with two columns:\n",
        "\n",
        "ds (datestamp) must be of type date or datetime.\n",
        "y is a numeric value we want to predict."
      ]
    },
    {
      "cell_type": "code",
      "metadata": {
        "id": "IVFBqHaJBM2J"
      },
      "source": [
        "#[3]\n",
        "df = daily_df.reset_index()\n",
        "df.columns = ['ds', 'y']\n",
        "df.tail(n=3)"
      ],
      "execution_count": null,
      "outputs": []
    },
    {
      "cell_type": "code",
      "metadata": {
        "id": "0_egvgIBTB2U"
      },
      "source": [
        "df.set_index('ds').y.plot().get_figure()"
      ],
      "execution_count": null,
      "outputs": []
    },
    {
      "cell_type": "code",
      "metadata": {
        "id": "m2sSEx8DLfGB"
      },
      "source": [
        "#To measure the quality of our forecast, we need to split our dataset into the historical part, which is the first and biggest slice of our data,\n",
        "# and the prediction part, which will be located at the end of the timeline. \n",
        "#We will remove the last 3 days from the dataset in order to use it later as a prediction target[3]\n",
        "prediction_size = 3\n",
        "train_df = df[:-prediction_size]\n",
        "train_df.tail(n=3)"
      ],
      "execution_count": null,
      "outputs": []
    },
    {
      "cell_type": "code",
      "metadata": {
        "id": "Yi-9PTvvMaOg"
      },
      "source": [
        "# now we create model [3]\n",
        "m = Prophet()\n",
        "m.fit(train_df);"
      ],
      "execution_count": null,
      "outputs": []
    },
    {
      "cell_type": "code",
      "metadata": {
        "id": "a_ki-3zQMxf9",
        "outputId": "c429c6f7-1b09-4972-9991-29d0041948ed",
        "colab": {
          "base_uri": "https://localhost:8080/",
          "height": 142
        }
      },
      "source": [
        "#[3]\n",
        "future = m.make_future_dataframe(periods=prediction_size)\n",
        "future.tail(n=3)"
      ],
      "execution_count": 30,
      "outputs": [
        {
          "output_type": "execute_result",
          "data": {
            "text/html": [
              "<div>\n",
              "<style scoped>\n",
              "    .dataframe tbody tr th:only-of-type {\n",
              "        vertical-align: middle;\n",
              "    }\n",
              "\n",
              "    .dataframe tbody tr th {\n",
              "        vertical-align: top;\n",
              "    }\n",
              "\n",
              "    .dataframe thead th {\n",
              "        text-align: right;\n",
              "    }\n",
              "</style>\n",
              "<table border=\"1\" class=\"dataframe\">\n",
              "  <thead>\n",
              "    <tr style=\"text-align: right;\">\n",
              "      <th></th>\n",
              "      <th>ds</th>\n",
              "    </tr>\n",
              "  </thead>\n",
              "  <tbody>\n",
              "    <tr>\n",
              "      <th>14</th>\n",
              "      <td>2020-03-24</td>\n",
              "    </tr>\n",
              "    <tr>\n",
              "      <th>15</th>\n",
              "      <td>2020-03-25</td>\n",
              "    </tr>\n",
              "    <tr>\n",
              "      <th>16</th>\n",
              "      <td>2020-03-26</td>\n",
              "    </tr>\n",
              "  </tbody>\n",
              "</table>\n",
              "</div>"
            ],
            "text/plain": [
              "           ds\n",
              "14 2020-03-24\n",
              "15 2020-03-25\n",
              "16 2020-03-26"
            ]
          },
          "metadata": {
            "tags": []
          },
          "execution_count": 30
        }
      ]
    },
    {
      "cell_type": "code",
      "metadata": {
        "id": "CTCGpSIMNM8X"
      },
      "source": [
        "#[3]\n",
        "forecast = m.predict(future)\n",
        "forecast.tail(n=3)"
      ],
      "execution_count": null,
      "outputs": []
    },
    {
      "cell_type": "code",
      "metadata": {
        "id": "qJSMTYcAOl4M",
        "outputId": "cbdbfb3e-0699-469c-9f33-2938a4106d99",
        "colab": {
          "base_uri": "https://localhost:8080/",
          "height": 204
        }
      },
      "source": [
        "#[1]\n",
        "forecast[['ds', 'yhat', 'yhat_lower', 'yhat_upper']].tail()"
      ],
      "execution_count": 33,
      "outputs": [
        {
          "output_type": "execute_result",
          "data": {
            "text/html": [
              "<div>\n",
              "<style scoped>\n",
              "    .dataframe tbody tr th:only-of-type {\n",
              "        vertical-align: middle;\n",
              "    }\n",
              "\n",
              "    .dataframe tbody tr th {\n",
              "        vertical-align: top;\n",
              "    }\n",
              "\n",
              "    .dataframe thead th {\n",
              "        text-align: right;\n",
              "    }\n",
              "</style>\n",
              "<table border=\"1\" class=\"dataframe\">\n",
              "  <thead>\n",
              "    <tr style=\"text-align: right;\">\n",
              "      <th></th>\n",
              "      <th>ds</th>\n",
              "      <th>yhat</th>\n",
              "      <th>yhat_lower</th>\n",
              "      <th>yhat_upper</th>\n",
              "    </tr>\n",
              "  </thead>\n",
              "  <tbody>\n",
              "    <tr>\n",
              "      <th>12</th>\n",
              "      <td>2020-03-22</td>\n",
              "      <td>83.510020</td>\n",
              "      <td>56.517001</td>\n",
              "      <td>104.968454</td>\n",
              "    </tr>\n",
              "    <tr>\n",
              "      <th>13</th>\n",
              "      <td>2020-03-23</td>\n",
              "      <td>89.762552</td>\n",
              "      <td>66.425144</td>\n",
              "      <td>113.424199</td>\n",
              "    </tr>\n",
              "    <tr>\n",
              "      <th>14</th>\n",
              "      <td>2020-03-24</td>\n",
              "      <td>96.015084</td>\n",
              "      <td>74.384712</td>\n",
              "      <td>121.402555</td>\n",
              "    </tr>\n",
              "    <tr>\n",
              "      <th>15</th>\n",
              "      <td>2020-03-25</td>\n",
              "      <td>102.267617</td>\n",
              "      <td>76.591055</td>\n",
              "      <td>125.693865</td>\n",
              "    </tr>\n",
              "    <tr>\n",
              "      <th>16</th>\n",
              "      <td>2020-03-26</td>\n",
              "      <td>108.520149</td>\n",
              "      <td>83.544659</td>\n",
              "      <td>133.043532</td>\n",
              "    </tr>\n",
              "  </tbody>\n",
              "</table>\n",
              "</div>"
            ],
            "text/plain": [
              "           ds        yhat  yhat_lower  yhat_upper\n",
              "12 2020-03-22   83.510020   56.517001  104.968454\n",
              "13 2020-03-23   89.762552   66.425144  113.424199\n",
              "14 2020-03-24   96.015084   74.384712  121.402555\n",
              "15 2020-03-25  102.267617   76.591055  125.693865\n",
              "16 2020-03-26  108.520149   83.544659  133.043532"
            ]
          },
          "metadata": {
            "tags": []
          },
          "execution_count": 33
        }
      ]
    },
    {
      "cell_type": "markdown",
      "metadata": {
        "id": "DPnDCm1jeFIp"
      },
      "source": [
        "#**6- Result Visualization**"
      ]
    },
    {
      "cell_type": "code",
      "metadata": {
        "id": "BB5Kty-_N7k1"
      },
      "source": [
        "#[3]forecasting\n",
        "m.plot(forecast);\n",
        "plt.title(\"Forecasting Covid-19 confirmed Cases(world) \")\n",
        "plt.show()"
      ],
      "execution_count": null,
      "outputs": []
    },
    {
      "cell_type": "code",
      "metadata": {
        "id": "Auutf8VWdchF"
      },
      "source": [
        "#[3]\n",
        "m.plot_components(forecast);\n",
        "plt.show()"
      ],
      "execution_count": null,
      "outputs": []
    },
    {
      "cell_type": "code",
      "metadata": {
        "id": "Jirxk0dDTs-n"
      },
      "source": [
        "# [1]\n",
        "df.set_index('ds', inplace=True)\n",
        "forecast.set_index('ds', inplace=True)"
      ],
      "execution_count": 36,
      "outputs": []
    },
    {
      "cell_type": "code",
      "metadata": {
        "id": "fnUxJ25aTztl"
      },
      "source": [
        "viz_df = daily_df.join(forecast[['yhat', 'yhat_lower','yhat_upper']], how = 'outer')"
      ],
      "execution_count": 37,
      "outputs": []
    },
    {
      "cell_type": "code",
      "metadata": {
        "id": "pgD7XbqwT_LV",
        "outputId": "0db294b6-f0e2-436a-e438-07f711201add",
        "colab": {
          "base_uri": "https://localhost:8080/",
          "height": 235
        }
      },
      "source": [
        "viz_df.head()"
      ],
      "execution_count": 38,
      "outputs": [
        {
          "output_type": "execute_result",
          "data": {
            "text/html": [
              "<div>\n",
              "<style scoped>\n",
              "    .dataframe tbody tr th:only-of-type {\n",
              "        vertical-align: middle;\n",
              "    }\n",
              "\n",
              "    .dataframe tbody tr th {\n",
              "        vertical-align: top;\n",
              "    }\n",
              "\n",
              "    .dataframe thead th {\n",
              "        text-align: right;\n",
              "    }\n",
              "</style>\n",
              "<table border=\"1\" class=\"dataframe\">\n",
              "  <thead>\n",
              "    <tr style=\"text-align: right;\">\n",
              "      <th></th>\n",
              "      <th>Confirmed_Cases</th>\n",
              "      <th>yhat</th>\n",
              "      <th>yhat_lower</th>\n",
              "      <th>yhat_upper</th>\n",
              "    </tr>\n",
              "    <tr>\n",
              "      <th>Date</th>\n",
              "      <th></th>\n",
              "      <th></th>\n",
              "      <th></th>\n",
              "      <th></th>\n",
              "    </tr>\n",
              "  </thead>\n",
              "  <tbody>\n",
              "    <tr>\n",
              "      <th>2020-03-10</th>\n",
              "      <td>17</td>\n",
              "      <td>8.479636</td>\n",
              "      <td>-15.735117</td>\n",
              "      <td>31.833502</td>\n",
              "    </tr>\n",
              "    <tr>\n",
              "      <th>2020-03-11</th>\n",
              "      <td>24</td>\n",
              "      <td>14.732168</td>\n",
              "      <td>-11.257902</td>\n",
              "      <td>38.105296</td>\n",
              "    </tr>\n",
              "    <tr>\n",
              "      <th>2020-03-12</th>\n",
              "      <td>28</td>\n",
              "      <td>20.984699</td>\n",
              "      <td>-2.669664</td>\n",
              "      <td>46.315372</td>\n",
              "    </tr>\n",
              "    <tr>\n",
              "      <th>2020-03-13</th>\n",
              "      <td>30</td>\n",
              "      <td>27.237231</td>\n",
              "      <td>4.537930</td>\n",
              "      <td>51.516875</td>\n",
              "    </tr>\n",
              "    <tr>\n",
              "      <th>2020-03-14</th>\n",
              "      <td>37</td>\n",
              "      <td>33.489763</td>\n",
              "      <td>9.121017</td>\n",
              "      <td>57.230878</td>\n",
              "    </tr>\n",
              "  </tbody>\n",
              "</table>\n",
              "</div>"
            ],
            "text/plain": [
              "            Confirmed_Cases       yhat  yhat_lower  yhat_upper\n",
              "Date                                                          \n",
              "2020-03-10               17   8.479636  -15.735117   31.833502\n",
              "2020-03-11               24  14.732168  -11.257902   38.105296\n",
              "2020-03-12               28  20.984699   -2.669664   46.315372\n",
              "2020-03-13               30  27.237231    4.537930   51.516875\n",
              "2020-03-14               37  33.489763    9.121017   57.230878"
            ]
          },
          "metadata": {
            "tags": []
          },
          "execution_count": 38
        }
      ]
    },
    {
      "cell_type": "code",
      "metadata": {
        "id": "TacZpRviVQlQ",
        "outputId": "bcbf0e0f-e8af-4977-f6e7-7104a1a079f0",
        "colab": {
          "base_uri": "https://localhost:8080/",
          "height": 595
        }
      },
      "source": [
        "viz_df[['Confirmed_Cases', 'yhat']].plot().get_figure()"
      ],
      "execution_count": 39,
      "outputs": [
        {
          "output_type": "execute_result",
          "data": {
            "image/png": "[encoded data removed]",
            "text/plain": [
              "<Figure size 432x288 with 1 Axes>"
            ]
          },
          "metadata": {
            "tags": []
          },
          "execution_count": 39
        },
        {
          "output_type": "display_data",
          "data": {
            "image/png": "[encoded data removed]",
            "text/plain": [
              "<Figure size 432x288 with 1 Axes>"
            ]
          },
          "metadata": {
            "tags": [],
            "needs_background": "light"
          }
        }
      ]
    },
    {
      "cell_type": "markdown",
      "metadata": {
        "id": "_3WYU3uraZOQ"
      },
      "source": [
        "#**7- Forecast quality evaluation** \n",
        "Let's evaluate the quality of the algorithm by calculating the error metrics for the last 30 days that we predicted. For this, we will need the observations  yi  and the corresponding predicted values  y^i ."
      ]
    },
    {
      "cell_type": "code",
      "metadata": {
        "id": "V294mk5-PUcV"
      },
      "source": [
        "def make_comparison_dataframe(historical, forecast):\n",
        "    \"\"\"Join the history with the forecast.\n",
        "    \n",
        "       The resulting dataset will contain columns 'yhat', 'yhat_lower', 'yhat_upper' and 'y'.\n",
        "    \"\"\"\n",
        "    return forecast.set_index('ds')[['yhat', 'yhat_lower', 'yhat_upper']].join(historical.set_index('ds'))"
      ],
      "execution_count": 40,
      "outputs": []
    },
    {
      "cell_type": "code",
      "metadata": {
        "id": "7rkQB64bPdTp"
      },
      "source": [
        "cmp_df = make_comparison_dataframe(df, forecast)\n",
        "cmp_df.tail(n=3)"
      ],
      "execution_count": null,
      "outputs": []
    },
    {
      "cell_type": "code",
      "metadata": {
        "id": "hHZkxBo2PvyI"
      },
      "source": [
        "def calculate_forecast_errors(df, prediction_size):\n",
        "    \"\"\"Calculate MAPE and MAE of the forecast.\n",
        "    \n",
        "       Args:\n",
        "           df: joined dataset with 'y' and 'yhat' columns.\n",
        "           prediction_size: number of days at the end to predict.\n",
        "    \"\"\"\n",
        "    \n",
        "    # Make a copy\n",
        "    df = df.copy()\n",
        "    \n",
        "    # Now we calculate the values of e_i and p_i according to the formulas given in the article above.\n",
        "    df['e'] = df['y'] - df['yhat']\n",
        "    df['p'] = 100 * df['e'] / df['y']\n",
        "    \n",
        "    # Recall that we held out the values of the last `prediction_size` days\n",
        "    # in order to predict them and measure the quality of the model. \n",
        "    \n",
        "    # Now cut out the part of the data which we made our prediction for.\n",
        "    predicted_part = df[-prediction_size:]\n",
        "    \n",
        "    # Define the function that averages absolute error values over the predicted part.\n",
        "    error_mean = lambda error_name: np.mean(np.abs(predicted_part[error_name]))\n",
        "    \n",
        "    # Now we can calculate MAPE and MAE and return the resulting dictionary of errors.\n",
        "    return {'MAPE': error_mean('p'), 'MAE': error_mean('e')}\n"
      ],
      "execution_count": 42,
      "outputs": []
    },
    {
      "cell_type": "code",
      "metadata": {
        "id": "6lpRKrLhP4NQ",
        "outputId": "ac59aaa7-0ac1-41d7-9c17-d19c296134f7",
        "colab": {
          "base_uri": "https://localhost:8080/",
          "height": 51
        }
      },
      "source": [
        "for err_name, err_value in calculate_forecast_errors(cmp_df, prediction_size).items():\n",
        "    print(err_name, err_value)"
      ],
      "execution_count": null,
      "outputs": [
        {
          "output_type": "stream",
          "text": [
            "MAPE 34.774518380154696\n",
            "MAE 55.0657164657149\n"
          ],
          "name": "stdout"
        }
      ]
    },
    {
      "cell_type": "markdown",
      "metadata": {
        "id": "HLConDmcvWW-"
      },
      "source": [
        "#**8- RMSE**"
      ]
    },
    {
      "cell_type": "code",
      "metadata": {
        "id": "3mn74pRGqITN"
      },
      "source": [
        "se = np.square(forecast.loc[:, 'yhat'] - df['y'])\n",
        "mse = np.mean(se)\n",
        "rmse = np.sqrt(mse)"
      ],
      "execution_count": 46,
      "outputs": []
    },
    {
      "cell_type": "code",
      "metadata": {
        "id": "P3nGmOylu3nv",
        "outputId": "d4b1e353-79a6-4435-99a0-c41b86a7ddbb",
        "colab": {
          "base_uri": "https://localhost:8080/"
        }
      },
      "source": [
        "print(rmse)"
      ],
      "execution_count": 47,
      "outputs": [
        {
          "output_type": "stream",
          "text": [
            "29.077235826002735\n"
          ],
          "name": "stdout"
        }
      ]
    },
    {
      "cell_type": "markdown",
      "metadata": {
        "id": "QmrbiUI8sjn8"
      },
      "source": [
        "# **References** "
      ]
    },
    {
      "cell_type": "code",
      "metadata": {
        "id": "KZy09JqTtWPt"
      },
      "source": [
        "#[1]Forecasting Time Series Data With Prophet I & II\n",
        "# https://nextjournal.com/eric-brown/forecasting-with-prophet \n",
        "#[2]Forecasting Time Series Data With Prophet IV\n",
        "#https://nextjournal.com/eric-brown/forecasting-with-prophet-part-4\n",
        "#[3]Time series analysis in Python\n",
        "#https://mlcourse.ai/articles/topic9-part2-prophet/\n",
        "#https://www.kaggle.com/kashnitsky/topic-9-part-2-time-series-with-facebook-prophet\n",
        "#[4] Covid-19 Deaths Predictions (Time Series - Prophet) - DIY\n",
        "#https://www.youtube.com/watch?v=zlFKgMnaDXk&feature=youtu.be&fbclid=IwAR3vSH3rUeeQRvhxSzADMlqK4CY06GaSbJSaeq-mAYfHXZb9E0M8Dlor4wU\n"
      ],
      "execution_count": null,
      "outputs": []
    }
  ]
}