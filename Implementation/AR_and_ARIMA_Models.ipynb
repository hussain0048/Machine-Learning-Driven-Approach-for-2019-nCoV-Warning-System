{
  "nbformat": 4,
  "nbformat_minor": 0,
  "metadata": {
    "coursera": {
      "course_slug": "neural-networks-deep-learning",
      "graded_item_id": "XaIWT",
      "launcher_item_id": "zAgPl"
    },
    "kernelspec": {
      "display_name": "Python 3",
      "language": "python",
      "name": "python3"
    },
    "language_info": {
      "codemirror_mode": {
        "name": "ipython",
        "version": 3
      },
      "file_extension": ".py",
      "mimetype": "text/x-python",
      "name": "python",
      "nbconvert_exporter": "python",
      "pygments_lexer": "ipython3",
      "version": "3.6.2"
    },
    "colab": {
      "name": "AR_and_ARIMA_Models.ipynb",
      "provenance": [],
      "collapsed_sections": [],
      "toc_visible": true
    }
  },
  "cells": [
    {
      "cell_type": "markdown",
      "metadata": {
        "id": "2WZFQQORCAcS",
        "colab_type": "text"
      },
      "source": [
        "# Autoregressive (AR) and Auto Regressive Integrated Moving Average (ARIMA) Models\n",
        "\n",
        "**Introduction:**\n",
        "\n",
        "A statistical model is autoregressive if it predicts future values based on past values. For example, an autoregressive model might seek to predict a stock's future prices based on its past performance [1].An AR(1) autoregressive process is one in which the current value is based on the immediately preceding value, while an AR(2) process is one in which the current value is based on the previous two values. An AR(0) process is used for white noise and has no dependence between the terms [1]"
      ]
    },
    {
      "cell_type": "code",
      "metadata": {
        "id": "tsY-ZNwbPThQ",
        "colab_type": "code",
        "colab": {
          "resources": {
            "http://localhost:8080/nbextensions/google.colab/files.js": {
              "data": "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",
              "ok": true,
              "headers": [
                [
                  "content-type",
                  "application/javascript"
                ]
              ],
              "status": 200,
              "status_text": ""
            }
          },
          "base_uri": "https://localhost:8080/",
          "height": 72
        },
        "outputId": "cfe8b99f-cf5e-4b7a-c98e-0c51203a6980"
      },
      "source": [
        "# this code is used to upload dataset from Pc to colab\n",
        "from google.colab import files # Please First run this cod in chrom \n",
        "def getLocalFiles():\n",
        "    _files = files.upload() # upload StudentNextSessionf.csv datase\n",
        "    if len(_files) >0: # Then run above  libray \n",
        "       for k,v in _files.items():\n",
        "         open(k,'wb').write(v)\n",
        "getLocalFiles()"
      ],
      "execution_count": 1,
      "outputs": [
        {
          "output_type": "display_data",
          "data": {
            "text/html": [
              "\n",
              "     <input type=\"file\" id=\"files-e739dc9d-b01f-478f-8ad4-555f6d6d8b06\" name=\"files[]\" multiple disabled\n",
              "        style=\"border:none\" />\n",
              "     <output id=\"result-e739dc9d-b01f-478f-8ad4-555f6d6d8b06\">\n",
              "      Upload widget is only available when the cell has been executed in the\n",
              "      current browser session. Please rerun this cell to enable.\n",
              "      </output>\n",
              "      <script src=\"/nbextensions/google.colab/files.js\"></script> "
            ],
            "text/plain": [
              "<IPython.core.display.HTML object>"
            ]
          },
          "metadata": {
            "tags": []
          }
        },
        {
          "output_type": "stream",
          "text": [
            "Saving data_cases1.csv to data_cases1.csv\n"
          ],
          "name": "stdout"
        }
      ]
    },
    {
      "cell_type": "markdown",
      "metadata": {
        "id": "beVu-1UqCAcU",
        "colab_type": "text"
      },
      "source": [
        "## 1 - Importing necessary libraries ##\n",
        "we import the following python packges for this tutorial \n",
        " - pandas: importing index data\n",
        " - matplotlib: it is used for ploting data\n",
        " - statsmodels build time series models\n",
        " - statistic to help find statistic of models"
      ]
    },
    {
      "cell_type": "code",
      "metadata": {
        "id": "ZF03EKpuCAcV",
        "colab_type": "code",
        "colab": {}
      },
      "source": [
        "import pandas as pd\n",
        "import matplotlib.pyplot as plt"
      ],
      "execution_count": 40,
      "outputs": []
    },
    {
      "cell_type": "code",
      "metadata": {
        "id": "7c3251v0N3z1",
        "colab_type": "code",
        "colab": {}
      },
      "source": [
        "from statsmodels.tsa.ar_model import AR\n",
        "from sklearn.metrics import mean_squared_error"
      ],
      "execution_count": 41,
      "outputs": []
    },
    {
      "cell_type": "code",
      "metadata": {
        "id": "vlav6g_TvrD9",
        "colab_type": "code",
        "colab": {}
      },
      "source": [
        "import statsmodels as sm\n",
        "from statsmodels.tsa.stattools import adfuller \n",
        "from statsmodels.graphics.tsaplots import plot_acf, plot_pacf  \n",
        "from statsmodels.tsa.arima_model import ARIMA \n",
        "import statistics"
      ],
      "execution_count": 42,
      "outputs": []
    },
    {
      "cell_type": "code",
      "metadata": {
        "id": "euL8yNRc7yE_",
        "colab_type": "code",
        "colab": {}
      },
      "source": [
        "plt.rcParams.update({'figure.figsize':(9,7), 'figure.dpi':120})"
      ],
      "execution_count": 43,
      "outputs": []
    },
    {
      "cell_type": "code",
      "metadata": {
        "id": "dZCZulRu3fib",
        "colab_type": "code",
        "colab": {}
      },
      "source": [
        "from pandas import Series\n",
        "from pandas import DataFrame\n",
        "from pandas import concat\n",
        "from sklearn.metrics import mean_squared_error"
      ],
      "execution_count": 44,
      "outputs": []
    },
    {
      "cell_type": "markdown",
      "metadata": {
        "collapsed": true,
        "id": "nhYP15aoCAcf",
        "colab_type": "text"
      },
      "source": [
        "## 2 - Load Datasets ##"
      ]
    },
    {
      "cell_type": "code",
      "metadata": {
        "id": "y1wsGi52CAch",
        "colab_type": "code",
        "colab": {}
      },
      "source": [
        "daily_confirm = pd.read_csv('data_cases1.csv', usecols=['Date','Confirmed'],index_col='Date', parse_dates=True )\n",
        "daily_confirm.head()"
      ],
      "execution_count": null,
      "outputs": []
    },
    {
      "cell_type": "markdown",
      "metadata": {
        "id": "UKI68e66OsBL",
        "colab_type": "text"
      },
      "source": [
        "## 3- Data Description # "
      ]
    },
    {
      "cell_type": "code",
      "metadata": {
        "id": "TmxB0x3VOyIh",
        "colab_type": "code",
        "colab": {}
      },
      "source": [
        "daily_confirm.index"
      ],
      "execution_count": null,
      "outputs": []
    },
    {
      "cell_type": "code",
      "metadata": {
        "id": "p_Ttzuj2O6TB",
        "colab_type": "code",
        "colab": {}
      },
      "source": [
        "daily_confirm.head()"
      ],
      "execution_count": null,
      "outputs": []
    },
    {
      "cell_type": "code",
      "metadata": {
        "id": "poqouIc3PBaB",
        "colab_type": "code",
        "colab": {}
      },
      "source": [
        "\n",
        "daily_confirm['2020-10-03':'2020-15-03']"
      ],
      "execution_count": null,
      "outputs": []
    },
    {
      "cell_type": "markdown",
      "metadata": {
        "id": "vSN1E21RIYXh",
        "colab_type": "text"
      },
      "source": [
        "## 3- Check and Fill the missing value \n",
        "\n",
        "finding all columns that have nan"
      ]
    },
    {
      "cell_type": "code",
      "metadata": {
        "id": "KCtUtRplIrYB",
        "colab_type": "code",
        "colab": {}
      },
      "source": [
        "daily_confirm.isna().sum()"
      ],
      "execution_count": null,
      "outputs": []
    },
    {
      "cell_type": "code",
      "metadata": {
        "id": "MvFSO1eVY4Ul",
        "colab_type": "code",
        "colab": {}
      },
      "source": [
        "for j in range(0,1):       \n",
        "        daily_confirm.iloc[:,j]=daily_confirm.iloc[:,j].fillna(daily_confirm.iloc[:,j].mean())  "
      ],
      "execution_count": 87,
      "outputs": []
    },
    {
      "cell_type": "markdown",
      "metadata": {
        "id": "P4QYI2IoHWpL",
        "colab_type": "text"
      },
      "source": [
        "## 4 - Ploting ##\n"
      ]
    },
    {
      "cell_type": "code",
      "metadata": {
        "id": "p9JGZRKCCAcq",
        "colab_type": "code",
        "colab": {}
      },
      "source": [
        " daily_confirm.plot(daily_confirm['Confirmed'])"
      ],
      "execution_count": null,
      "outputs": []
    },
    {
      "cell_type": "code",
      "metadata": {
        "id": "nR-PYX-bQsYr",
        "colab_type": "code",
        "colab": {}
      },
      "source": [
        "%matplotlib inline\n",
        "daily_confirm.Confirmed.resample(\"M\").mean().plot()"
      ],
      "execution_count": null,
      "outputs": []
    },
    {
      "cell_type": "code",
      "metadata": {
        "id": "A4baoniBQ5qv",
        "colab_type": "code",
        "colab": {}
      },
      "source": [
        "daily_confirm.Confirmed.resample(\"W\").mean().plot()"
      ],
      "execution_count": null,
      "outputs": []
    },
    {
      "cell_type": "code",
      "metadata": {
        "id": "L4jg1ktARE9o",
        "colab_type": "code",
        "colab": {}
      },
      "source": [
        "daily_confirm.Confirmed.resample(\"D\").mean().plot()"
      ],
      "execution_count": null,
      "outputs": []
    },
    {
      "cell_type": "code",
      "metadata": {
        "id": "soIDaghNRORG",
        "colab_type": "code",
        "colab": {}
      },
      "source": [
        "Quarterly_resampled_data = daily_confirm.Confirmed.resample('Q').mean().plot()"
      ],
      "execution_count": null,
      "outputs": []
    },
    {
      "cell_type": "code",
      "metadata": {
        "id": "OXCttrtfR43-",
        "colab_type": "code",
        "colab": {}
      },
      "source": [
        "daily_confirm.Confirmed.resample('QS').mean().plot()"
      ],
      "execution_count": null,
      "outputs": []
    },
    {
      "cell_type": "code",
      "metadata": {
        "id": "jBsedv0KSDIf",
        "colab_type": "code",
        "colab": {}
      },
      "source": [
        "daily_confirm.Confirmed.resample('M').mean().plot(kind=\"line\")"
      ],
      "execution_count": null,
      "outputs": []
    },
    {
      "cell_type": "markdown",
      "metadata": {
        "id": "ehTTQE9YJF1Q",
        "colab_type": "text"
      },
      "source": [
        "##5- Correlation ##\n",
        "Visual check of correlation by plotting the scatter plot against the previous and next time step Pandas built in plot - Lagplot - to do visual check\n",
        "\n"
      ]
    },
    {
      "cell_type": "code",
      "metadata": {
        "scrolled": true,
        "id": "TvqFi8-XCAcy",
        "colab_type": "code",
        "colab": {}
      },
      "source": [
        ""
      ],
      "execution_count": null,
      "outputs": []
    },
    {
      "cell_type": "markdown",
      "metadata": {
        "id": "Y5ay6wqxYGx4",
        "colab_type": "text"
      },
      "source": [
        "**Stationary**\n",
        "\n",
        "To check wither data is stationaly or not. stationary mean that is data is constant in mean and variance . we cehck this becasue many time sieries model required that data should be stationary in order to model it. It should be concentatn movment up and down momement"
      ]
    },
    {
      "cell_type": "code",
      "metadata": {
        "id": "xa_nh0I_YFQL",
        "colab_type": "code",
        "colab": {}
      },
      "source": [
        "plt.plot(daily_confirm)\n",
        "plt.show()"
      ],
      "execution_count": null,
      "outputs": []
    },
    {
      "cell_type": "markdown",
      "metadata": {
        "id": "U_AmXR-xaMdo",
        "colab_type": "text"
      },
      "source": [
        "now we make data stationary if data is not stationary \n",
        "  - Difference the data and make it satationary . difference mean substract the next value \n",
        "  - fill the miss value data"
      ]
    },
    {
      "cell_type": "code",
      "metadata": {
        "id": "6fP07c68bmeo",
        "colab_type": "code",
        "colab": {}
      },
      "source": [
        "# take serveral diff untill your data become stationary \n",
        "daily_confirm_diff1=daily_confirm.diff().fillna(daily_confirm)"
      ],
      "execution_count": 103,
      "outputs": []
    },
    {
      "cell_type": "code",
      "metadata": {
        "id": "9T4FkhX7sygg",
        "colab_type": "code",
        "colab": {}
      },
      "source": [
        "daily_confirm_diff2=daily_confirm_diff1.diff().fillna(daily_confirm_diff1)"
      ],
      "execution_count": 105,
      "outputs": []
    },
    {
      "cell_type": "code",
      "metadata": {
        "id": "4TtGJAkCtBjT",
        "colab_type": "code",
        "colab": {}
      },
      "source": [
        "daily_confirm_diff3=daily_confirm_diff2.diff().fillna(daily_confirm_diff2)"
      ],
      "execution_count": 107,
      "outputs": []
    },
    {
      "cell_type": "code",
      "metadata": {
        "id": "keqNEyPpv1x9",
        "colab_type": "code",
        "colab": {}
      },
      "source": [
        "daily_confirm_diff4=daily_confirm_diff3.diff().fillna(daily_confirm_diff3)"
      ],
      "execution_count": 142,
      "outputs": []
    },
    {
      "cell_type": "code",
      "metadata": {
        "id": "4mRDOrcvwYo7",
        "colab_type": "code",
        "colab": {}
      },
      "source": [
        "daily_confirm_diff5=daily_confirm_diff4.diff().fillna(daily_confirm_diff4)"
      ],
      "execution_count": 145,
      "outputs": []
    },
    {
      "cell_type": "code",
      "metadata": {
        "id": "2ZhajJjfbyEU",
        "colab_type": "code",
        "colab": {}
      },
      "source": [
        "plt.plot(daily_confirm_diff5)\n",
        "plt.show()"
      ],
      "execution_count": null,
      "outputs": []
    },
    {
      "cell_type": "markdown",
      "metadata": {
        "id": "X7TpYJAKuQS9",
        "colab_type": "text"
      },
      "source": [
        "**Autocorrelation Function (ACF) plot**\n",
        "\n",
        "**Partial Autocorrelation Function(PACF) Plot ** \n",
        "\n",
        "Helps determine number of autoregressive AR term and moving average term\n",
        "\n",
        "can also be used to help see seasonality or periodic trends\n"
      ]
    },
    {
      "cell_type": "code",
      "metadata": {
        "id": "PV824D_Fyl64",
        "colab_type": "code",
        "colab": {}
      },
      "source": [
        "plot_acf(daily_confirm_diff5)\n",
        "plt.show()"
      ],
      "execution_count": null,
      "outputs": []
    },
    {
      "cell_type": "code",
      "metadata": {
        "id": "59xk22YYyxFw",
        "colab_type": "code",
        "colab": {}
      },
      "source": [
        "plot_pacf(daily_confirm_diff5)\n",
        "plt.show()"
      ],
      "execution_count": null,
      "outputs": []
    },
    {
      "cell_type": "markdown",
      "metadata": {
        "id": "izbM6eEUKAV-",
        "colab_type": "text"
      },
      "source": [
        "## 6-Data Spliting ##"
      ]
    },
    {
      "cell_type": "code",
      "metadata": {
        "id": "zt-vctO1Kb3o",
        "colab_type": "code",
        "colab": {}
      },
      "source": [
        " X = daily_confirm_diff5.values\n",
        "train, test = X[1:len(X)-7], X[len(X)-7:]"
      ],
      "execution_count": 149,
      "outputs": []
    },
    {
      "cell_type": "markdown",
      "metadata": {
        "id": "bVnQBEQv7fqd",
        "colab_type": "text"
      },
      "source": [
        "##6 -Autoregressive model##\n",
        "Forecast the next timestamp value by regressing over previous vaues"
      ]
    },
    {
      "cell_type": "markdown",
      "metadata": {
        "id": "1x8QNZN3CAdF",
        "colab_type": "text"
      },
      "source": [
        "### 6.1 - Models training on training Data ###\n"
      ]
    },
    {
      "cell_type": "code",
      "metadata": {
        "id": "zNBdXxiHLfLW",
        "colab_type": "code",
        "colab": {}
      },
      "source": [
        "from statsmodels.tsa.ar_model import AR"
      ],
      "execution_count": 150,
      "outputs": []
    },
    {
      "cell_type": "code",
      "metadata": {
        "id": "ulKq5MEC4QTC",
        "colab_type": "code",
        "colab": {}
      },
      "source": [
        "model = AR(train)\n",
        "model_fit = model.fit()"
      ],
      "execution_count": 151,
      "outputs": []
    },
    {
      "cell_type": "code",
      "metadata": {
        "id": "5zfaTqgI4Vis",
        "colab_type": "code",
        "colab": {}
      },
      "source": [
        "print('Lag: %s' % model_fit.k_ar)\n",
        "print('Coefficients: %s' % model_fit.params)"
      ],
      "execution_count": null,
      "outputs": []
    },
    {
      "cell_type": "markdown",
      "metadata": {
        "id": "g78HCuLVCAdG",
        "colab_type": "text"
      },
      "source": [
        "### 6.2 - Model prediction on test data### "
      ]
    },
    {
      "cell_type": "code",
      "metadata": {
        "id": "JwOLIUoIPjY1",
        "colab_type": "code",
        "colab": {}
      },
      "source": [
        "predictions = model_fit.predict(start=len(train), end=len(train)+len(test)-1, dynamic=False)"
      ],
      "execution_count": 153,
      "outputs": []
    },
    {
      "cell_type": "code",
      "metadata": {
        "id": "YhWBShUX5JbT",
        "colab_type": "code",
        "colab": {}
      },
      "source": [
        "for i in range(len(predictions)):\n",
        "    print('predicted=%f, expected=%f' % (predictions[i], test[i]))"
      ],
      "execution_count": null,
      "outputs": []
    },
    {
      "cell_type": "markdown",
      "metadata": {
        "id": "_JBFgfGjdddE",
        "colab_type": "text"
      },
      "source": [
        "### 7.3 Model Evaulation###"
      ]
    },
    {
      "cell_type": "code",
      "metadata": {
        "id": "j9xnyArC5dAD",
        "colab_type": "code",
        "colab": {}
      },
      "source": [
        "error = mean_squared_error(test, predictions)"
      ],
      "execution_count": 155,
      "outputs": []
    },
    {
      "cell_type": "code",
      "metadata": {
        "id": "o8744XRH5lhP",
        "colab_type": "code",
        "colab": {}
      },
      "source": [
        "print('Test MSE: %.3f' % error)"
      ],
      "execution_count": null,
      "outputs": []
    },
    {
      "cell_type": "code",
      "metadata": {
        "id": "y5RGFYis5t2y",
        "colab_type": "code",
        "colab": {}
      },
      "source": [
        "plt.plot(test)\n",
        "plt.plot(predictions, color='red')\n",
        "plt.show()"
      ],
      "execution_count": null,
      "outputs": []
    },
    {
      "cell_type": "markdown",
      "metadata": {
        "id": "i_GstlsrCAdc",
        "colab_type": "text"
      },
      "source": [
        "### 6.4 -Model tunning"
      ]
    },
    {
      "cell_type": "code",
      "metadata": {
        "id": "e1DF698ECAdd",
        "colab_type": "code",
        "colab": {}
      },
      "source": [
        "window = model_fit.k_ar\n",
        "coef = model_fit.params"
      ],
      "execution_count": 123,
      "outputs": []
    },
    {
      "cell_type": "code",
      "metadata": {
        "id": "wd_svSDs6mQ-",
        "colab_type": "code",
        "colab": {}
      },
      "source": [
        "history = train[len(train)-window:]\n",
        "history = [history[i] for i in range(len(history))]\n",
        "predictions = list()"
      ],
      "execution_count": 124,
      "outputs": []
    },
    {
      "cell_type": "code",
      "metadata": {
        "id": "SqVFvGGY6qsn",
        "colab_type": "code",
        "colab": {
          "base_uri": "https://localhost:8080/",
          "height": 136
        },
        "outputId": "5b6bbb39-ca4e-4f6e-813e-dabb78c7668f"
      },
      "source": [
        "for t in range(len(test)):\n",
        "    length = len(history)\n",
        "    lag = [history[i] for i in range(length-window,length)]\n",
        "    yhat = coef[0]\n",
        "    for d in range(window):\n",
        "        yhat += coef[d+1] * lag[window-d-1]\n",
        "    obs = test[t]\n",
        "    predictions.append(yhat)\n",
        "    history.append(obs)\n",
        "    print('predicted=%f, expected=%f' % (yhat, obs))"
      ],
      "execution_count": 125,
      "outputs": [
        {
          "output_type": "stream",
          "text": [
            "predicted=10.883627, expected=9.000000\n",
            "predicted=-2.303870, expected=-15.000000\n",
            "predicted=9.404725, expected=12.000000\n",
            "predicted=-11.919788, expected=-13.000000\n",
            "predicted=9.461229, expected=6.000000\n",
            "predicted=3.641102, expected=2.000000\n",
            "predicted=0.678475, expected=-2.000000\n"
          ],
          "name": "stdout"
        }
      ]
    },
    {
      "cell_type": "markdown",
      "metadata": {
        "id": "lTe0Qqi3CAeA",
        "colab_type": "text"
      },
      "source": [
        "### 6.5 - Model Evaulation ###"
      ]
    },
    {
      "cell_type": "code",
      "metadata": {
        "id": "fakWwJ-h6-tm",
        "colab_type": "code",
        "colab": {}
      },
      "source": [
        "error = mean_squared_error(test, predictions)\n",
        "print('Test MSE: %.3f' % error)"
      ],
      "execution_count": null,
      "outputs": []
    },
    {
      "cell_type": "code",
      "metadata": {
        "id": "XOG_8GjO7Dya",
        "colab_type": "code",
        "colab": {}
      },
      "source": [
        "pyplot.plot(test)\n",
        "pyplot.plot(predictions, color='red')\n",
        "pyplot.show()"
      ],
      "execution_count": null,
      "outputs": []
    },
    {
      "cell_type": "markdown",
      "metadata": {
        "id": "05Gq2A7BCAeX",
        "colab_type": "text"
      },
      "source": [
        "## 7 - Auto Regressive Integrated Moving Average (ARIMA) ##\n",
        "\n",
        " Forecast the next timestamps value by averaging over the previous values \n",
        "  - useful for non-stationary data\n",
        "  - allows us to difference the data\n",
        "  - also includes a seasona differencing parameter for seasonal non-stationary data "
      ]
    },
    {
      "cell_type": "markdown",
      "metadata": {
        "id": "rWCpBVwViJPO",
        "colab_type": "text"
      },
      "source": [
        "### 7.1 Models training on training Data"
      ]
    },
    {
      "cell_type": "code",
      "metadata": {
        "id": "Ld1_nNE_mDcW",
        "colab_type": "code",
        "colab": {}
      },
      "source": [
        "model_ARIMA = ARIMA(train, order=(5,0,1))\n",
        "model_fit_ARIMA = model_ARIMA.fit(disp=0)"
      ],
      "execution_count": null,
      "outputs": []
    },
    {
      "cell_type": "code",
      "metadata": {
        "id": "o_rzpp-3b1ak",
        "colab_type": "code",
        "colab": {}
      },
      "source": [
        "print('Lag: %s' % model_fit_ARIMA.k_ar)\n",
        "print('Coefficients: %s' % model_fit_ARIMA.params)"
      ],
      "execution_count": null,
      "outputs": []
    },
    {
      "cell_type": "markdown",
      "metadata": {
        "collapsed": true,
        "id": "yN3QOkmDCAed",
        "colab_type": "text"
      },
      "source": [
        "### 7.2 - Model prediction on test data. ###\n"
      ]
    },
    {
      "cell_type": "code",
      "metadata": {
        "id": "f9Mfj47gcrlu",
        "colab_type": "code",
        "colab": {}
      },
      "source": [
        "predictions_ARIMA = model_fit_ARIMA.predict(start=len(train), end=len(train)+len(test)-1, dynamic=False)"
      ],
      "execution_count": 79,
      "outputs": []
    },
    {
      "cell_type": "code",
      "metadata": {
        "id": "NaIYvkLwc97g",
        "colab_type": "code",
        "colab": {}
      },
      "source": [
        "for i in range(len(predictions_ARIMA)):\n",
        "    print('predicted=%f, expected=%f' % (predictions_ARIMA[i], test[i]))"
      ],
      "execution_count": null,
      "outputs": []
    },
    {
      "cell_type": "code",
      "metadata": {
        "id": "MHVC12Sl0Xw1",
        "colab_type": "code",
        "colab": {
          "base_uri": "https://localhost:8080/",
          "height": 385
        },
        "outputId": "bff47998-26c1-46be-fb68-ad246d02bf50"
      },
      "source": [
        "# Another Mothod \n",
        "from statsmodels.tsa.arima_model import ARMA\n",
        "mod = ARMA(train, order=(0,1))\n",
        "res = mod.fit()\n",
        "res.plot_predict(start=1990, end=1991)\n",
        "plt.show()\n",
        "predictions_ARIMA = res.predict(start=len(train), end=len(train)+len(test)-1, dynamic=False)\n",
        "for i in range(len(predictions_ARIMA)):\n",
        "    print('predicted=%f, expected=%f' % (predictions_ARIMA[i], test[i]))\n"
      ],
      "execution_count": 129,
      "outputs": [
        {
          "output_type": "display_data",
          "data": {
            "image/png": "[encoded data removed]",
            "text/plain": [
              "<Figure size 432x288 with 1 Axes>"
            ]
          },
          "metadata": {
            "tags": [],
            "needs_background": "light"
          }
        },
        {
          "output_type": "stream",
          "text": [
            "predicted=-0.980718, expected=9.000000\n",
            "predicted=0.000002, expected=-15.000000\n",
            "predicted=0.000002, expected=12.000000\n",
            "predicted=0.000002, expected=-13.000000\n",
            "predicted=0.000002, expected=6.000000\n",
            "predicted=0.000002, expected=2.000000\n",
            "predicted=0.000002, expected=-2.000000\n"
          ],
          "name": "stdout"
        }
      ]
    },
    {
      "cell_type": "markdown",
      "metadata": {
        "id": "9q5Vg5WldwA0",
        "colab_type": "text"
      },
      "source": [
        "###7.3 Model Evaulation##"
      ]
    },
    {
      "cell_type": "code",
      "metadata": {
        "id": "qNfne-7Ud2gl",
        "colab_type": "code",
        "colab": {}
      },
      "source": [
        "error_ARIMA = mean_squared_error(test, predictions_ARIMA)"
      ],
      "execution_count": 130,
      "outputs": []
    },
    {
      "cell_type": "code",
      "metadata": {
        "id": "Ofv08pr_eKUP",
        "colab_type": "code",
        "colab": {}
      },
      "source": [
        "print('Test MSE: %.3f' % error_ARIMA)"
      ],
      "execution_count": null,
      "outputs": []
    },
    {
      "cell_type": "code",
      "metadata": {
        "id": "JxxCZ4C6eU_l",
        "colab_type": "code",
        "colab": {}
      },
      "source": [
        "plt.plot(test)\n",
        "plt.plot(predictions_ARIMA, color='red')\n",
        "plt.show()"
      ],
      "execution_count": null,
      "outputs": []
    },
    {
      "cell_type": "markdown",
      "metadata": {
        "id": "BKXbvbqBelb9",
        "colab_type": "text"
      },
      "source": [
        "###7.4 Model tunning##"
      ]
    },
    {
      "cell_type": "code",
      "metadata": {
        "id": "is1FsuhueyIX",
        "colab_type": "code",
        "colab": {}
      },
      "source": [
        "window_ARIMA = model_fit_ARIMA.k_ar\n",
        "coef_ARIMA = model_fit_ARIMA.params"
      ],
      "execution_count": 133,
      "outputs": []
    },
    {
      "cell_type": "code",
      "metadata": {
        "id": "kVloQpvnfCLI",
        "colab_type": "code",
        "colab": {}
      },
      "source": [
        "history_ARIMA = train[len(train)-window_ARIMA:]\n",
        "history_ARIMA = [history_ARIMA[i] for i in range(len(history_ARIMA))]\n",
        "predictions_ARIMA = list()"
      ],
      "execution_count": 134,
      "outputs": []
    },
    {
      "cell_type": "code",
      "metadata": {
        "id": "-7Nc4n4gfZF5",
        "colab_type": "code",
        "colab": {}
      },
      "source": [
        "for t in range(len(test)):\n",
        "    length = len(history_ARIMA)\n",
        "    lag = [history_ARIMA[i] for i in range(length-window,length)]\n",
        "    yhat = coef[0]\n",
        "    for d in range(window_ARIMA):\n",
        "        yhat += coef[d+1] * lag[window_ARIMA-d-1]\n",
        "    obs = test[t]\n",
        "    predictions_ARIMA.append(yhat)\n",
        "    history_ARIMA.append(obs)\n",
        "    print('predicted=%f, expected=%f' % (yhat, obs))"
      ],
      "execution_count": null,
      "outputs": []
    },
    {
      "cell_type": "markdown",
      "metadata": {
        "id": "HRAZMQIif3H6",
        "colab_type": "text"
      },
      "source": [
        "###7.5 Model Evaulation##"
      ]
    },
    {
      "cell_type": "markdown",
      "metadata": {
        "id": "vm7uTbEWCAei",
        "colab_type": "text"
      },
      "source": [
        "References:\n",
        "\n",
        "Autoregressive¶\n",
        "https://www.investopedia.com/terms/a/autoregressive.asp\n",
        "\n",
        "Autoregressive Models\n",
        "https://online.stat.psu.edu/stat501/lesson/14/14.1#:~:text=An%20autoregressive%20model%20is%20when,from%20that%20same%20time%20series.&text=The%20order%20of%20an%20autoregression,value%20at%20the%20present%20time.\n",
        "\n",
        "ARIMA modeling and forecasting: Time Series in Python Part 2\n",
        "https://tutorials.datasciencedojo.com/arima-model-time-series-python/"
      ]
    }
  ]
}