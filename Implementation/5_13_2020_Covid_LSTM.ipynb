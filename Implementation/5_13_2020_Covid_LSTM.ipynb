{
  "nbformat": 4,
  "nbformat_minor": 0,
  "metadata": {
    "kernelspec": {
      "display_name": "Python 3",
      "language": "python",
      "name": "python3"
    },
    "language_info": {
      "codemirror_mode": {
        "name": "ipython",
        "version": 3
      },
      "file_extension": ".py",
      "mimetype": "text/x-python",
      "name": "python",
      "nbconvert_exporter": "python",
      "pygments_lexer": "ipython3",
      "version": "3.6.6"
    },
    "colab": {
      "name": " 5-13-2020 Covid_LSTM.ipynb",
      "provenance": [],
      "collapsed_sections": [],
      "toc_visible": true,
      "machine_shape": "hm",
      "include_colab_link": true
    }
  },
  "cells": [
    {
      "cell_type": "markdown",
      "metadata": {
        "id": "view-in-github",
        "colab_type": "text"
      },
      "source": [
        "<a href=\"https://colab.research.google.com/github/hussain0048/Machine-Learning-Driven-Approach-for-2019-nCoV-Warning-System/blob/master/Implementation/5_13_2020_Covid_LSTM.ipynb\" target=\"_parent\"><img src=\"https://colab.research.google.com/assets/colab-badge.svg\" alt=\"Open In Colab\"/></a>"
      ]
    },
    {
      "cell_type": "markdown",
      "metadata": {
        "id": "FfcjS4CKTyAP"
      },
      "source": [
        "# **1- Introduction** \n",
        "\n",
        "Predicting confirmed cases of Convid-19 with LSTM"
      ]
    },
    {
      "cell_type": "code",
      "metadata": {
        "id": "uTYReJPf9UFm",
        "outputId": "ccf747f0-ee30-4185-91e5-de0485b17e52",
        "colab": {
          "base_uri": "https://localhost:8080/"
        }
      },
      "source": [
        "!git clone https://github.com/hussain0048/Machine-Learning-Driven-Approach-for-2019-nCoV-Warning-System"
      ],
      "execution_count": 1,
      "outputs": [
        {
          "output_type": "stream",
          "text": [
            "Cloning into 'Machine-Learning-Driven-Approach-for-2019-nCoV-Warning-System'...\n",
            "fatal: could not read Username for 'https://github.com': No such device or address\n"
          ],
          "name": "stdout"
        }
      ]
    },
    {
      "cell_type": "markdown",
      "metadata": {
        "id": "85cNlo5f1-Z3"
      },
      "source": [
        "# **2- Import Nessary library**"
      ]
    },
    {
      "cell_type": "code",
      "metadata": {
        "id": "FxdLWHIJTyAU"
      },
      "source": [
        "import pandas as pd\n",
        "import numpy as np\n",
        "from fbprophet import Prophet\n",
        "import matplotlib.pyplot as plt\n",
        " \n",
        "plt.rcParams['figure.figsize']=(20,10)\n",
        "plt.style.use('ggplot')"
      ],
      "execution_count": 3,
      "outputs": []
    },
    {
      "cell_type": "code",
      "metadata": {
        "id": "5NeSSztObv-7"
      },
      "source": [
        "plt.rcParams['figure.figsize']=(20,10)\n",
        "plt.style.use('ggplot')"
      ],
      "execution_count": 4,
      "outputs": []
    },
    {
      "cell_type": "code",
      "metadata": {
        "id": "XhadCtyRcFFY"
      },
      "source": [
        "pd.plotting.register_matplotlib_converters()"
      ],
      "execution_count": 5,
      "outputs": []
    },
    {
      "cell_type": "code",
      "metadata": {
        "id": "-vcGxjHQGL1c"
      },
      "source": [
        "#[3]\n",
        "import warnings\n",
        "warnings.filterwarnings('ignore')\n",
        "\n",
        "import numpy as np\n",
        "import pandas as pd\n",
        "from scipy import stats\n",
        "import statsmodels.api as sm\n",
        "import matplotlib.pyplot as plt\n",
        "\n",
        "%matplotlib inline"
      ],
      "execution_count": 6,
      "outputs": []
    },
    {
      "cell_type": "code",
      "metadata": {
        "id": "d17uQ_kpKn5w"
      },
      "source": [
        "from fbprophet import Prophet\n",
        "\n",
        "import logging\n",
        "logging.getLogger().setLevel(logging.ERROR)"
      ],
      "execution_count": 7,
      "outputs": []
    },
    {
      "cell_type": "code",
      "metadata": {
        "id": "Ia255xaIs1iD"
      },
      "source": [
        "# LSTM\n",
        "import math\n",
        "import pandas_datareader as web\n",
        "import numpy as np\n",
        "import pandas as pd\n",
        "from sklearn.preprocessing import MinMaxScaler\n",
        "from keras.models import Sequential\n",
        "from keras.layers import Dense,LSTM\n",
        "import matplotlib.pyplot as plt\n",
        "plt.style.use('fivethirtyeight')"
      ],
      "execution_count": 8,
      "outputs": []
    },
    {
      "cell_type": "code",
      "metadata": {
        "id": "NwsfXTJk2R0M",
        "outputId": "e03f8c93-a8da-420e-b702-f430e02607b8",
        "colab": {
          "base_uri": "https://localhost:8080/"
        }
      },
      "source": [
        "from google.colab import drive\n",
        "drive.mount('/content/drive')"
      ],
      "execution_count": 9,
      "outputs": [
        {
          "output_type": "stream",
          "text": [
            "Mounted at /content/drive\n"
          ],
          "name": "stdout"
        }
      ]
    },
    {
      "cell_type": "markdown",
      "metadata": {
        "id": "X5p8oL_STyAg"
      },
      "source": [
        "# **3-Import dataset**"
      ]
    },
    {
      "cell_type": "code",
      "metadata": {
        "id": "RDKPEa7keRWE"
      },
      "source": [
        "df = pd.read_csv(\"/content/drive/My Drive/Datasets/Covid-19/data_cases1.csv\", usecols=['Date','Confirmed'],index_col='Date', parse_dates=True )\n",
        "df.head()"
      ],
      "execution_count": null,
      "outputs": []
    },
    {
      "cell_type": "code",
      "metadata": {
        "id": "_qRu1k2Dyt2O"
      },
      "source": [
        "df.head()"
      ],
      "execution_count": null,
      "outputs": []
    },
    {
      "cell_type": "code",
      "metadata": {
        "id": "t-E75RQRTyAx"
      },
      "source": [
        "df.shape"
      ],
      "execution_count": null,
      "outputs": []
    },
    {
      "cell_type": "markdown",
      "metadata": {
        "id": "R8BthJfITyBS"
      },
      "source": [
        "#**4-Data cleaning and feature engineering**"
      ]
    },
    {
      "cell_type": "code",
      "metadata": {
        "id": "Ns2tk6CCGzDo"
      },
      "source": [
        "df1 = df.reset_index()"
      ],
      "execution_count": 68,
      "outputs": []
    },
    {
      "cell_type": "code",
      "metadata": {
        "id": "WGxkU_bZ_eoq"
      },
      "source": [
        "df1.head()"
      ],
      "execution_count": null,
      "outputs": []
    },
    {
      "cell_type": "code",
      "metadata": {
        "id": "wiEfm8xA9Cb4"
      },
      "source": [
        "#we get rid of possible duplicates and missing values in the data [3]\n",
        "df1 = df1[['Date', 'Confirmed']].dropna().drop_duplicates()"
      ],
      "execution_count": 70,
      "outputs": []
    },
    {
      "cell_type": "code",
      "metadata": {
        "id": "fqj24WXrFwbV"
      },
      "source": [
        "df1.shape"
      ],
      "execution_count": null,
      "outputs": []
    },
    {
      "cell_type": "code",
      "metadata": {
        "id": "8oKf0uV2GG02"
      },
      "source": [
        "#we need to convert Date to the datetime format because by default pandas treats this field as string-valued[3]\n",
        "df1['Date'] = pd.to_datetime(df1['Date'])"
      ],
      "execution_count": 72,
      "outputs": []
    },
    {
      "cell_type": "code",
      "metadata": {
        "id": "ijc8tkqbGqpE"
      },
      "source": [
        "df1.head()"
      ],
      "execution_count": null,
      "outputs": []
    },
    {
      "cell_type": "code",
      "metadata": {
        "id": "-cnFzmAAHIWq"
      },
      "source": [
        "#Let's sort the dataframe by time and take a look at what we've got [3]\n",
        "df1.sort_values(by=['Date']).head(n=3)"
      ],
      "execution_count": null,
      "outputs": []
    },
    {
      "cell_type": "code",
      "metadata": {
        "id": "vegTUwkq9kw8"
      },
      "source": [
        "#We will just trim our time series to keep only those rows that fall onto the period from March 10, 2020 to March 31, 2020[3]\n",
        "df1 = df1[(df1['Date'] > '2020-03-09') & (df1['Date'] < '2020-04-01')].sort_values(by=['Date'])\n",
        "df1.head(n=10)"
      ],
      "execution_count": null,
      "outputs": []
    },
    {
      "cell_type": "code",
      "metadata": {
        "id": "rahdPkyK-81A"
      },
      "source": [
        "#As we are going to predict the number of confirm Cases of Covid-19, we will aggregate and count unique Cases at each given point in time. We will name the corresponding new column Confirmed_Cases:\n",
        "aggr_df = df1.groupby('Date')[['Confirmed']].count()\n",
        "aggr_df.columns = ['Confirmed_Cases']"
      ],
      "execution_count": 77,
      "outputs": []
    },
    {
      "cell_type": "code",
      "metadata": {
        "id": "K-av4_rg_pfa"
      },
      "source": [
        "aggr_df.head(n=3)\n"
      ],
      "execution_count": null,
      "outputs": []
    },
    {
      "cell_type": "code",
      "metadata": {
        "id": "8WPfYYLU_6dD"
      },
      "source": [
        "#In this practice, we are interested in the number of confirmed cases a day. But at this moment all our data is divided into irregular time intervals that are less than a day. \n",
        "#This is called a sub-daily time series.To fix this, we need to aggregate the Cases counts by \"bins\" of a date size. \n",
        "#In time series analysis, this process is referred to as resampling. And if we reduce the sampling rate of data it is often called downsampling.\n",
        "#Luckily, pandas has a built-in functionality for this task. We will resample our time index down to 1-day bins [3]\n",
        "daily_df = aggr_df.resample('D').apply(sum)\n",
        "daily_df.head(n=3)"
      ],
      "execution_count": null,
      "outputs": []
    },
    {
      "cell_type": "code",
      "metadata": {
        "id": "9n0GTxkvAeq5"
      },
      "source": [
        "weekly_df = df1.resample('W').apply(sum)"
      ],
      "execution_count": null,
      "outputs": []
    },
    {
      "cell_type": "code",
      "metadata": {
        "id": "SUR6GRnOJp5T",
        "outputId": "de7058f9-8c63-4574-9f99-7d16f1ad130a",
        "colab": {
          "base_uri": "https://localhost:8080/",
          "height": 164
        }
      },
      "source": [
        "weekly_df.head()"
      ],
      "execution_count": 24,
      "outputs": [
        {
          "output_type": "error",
          "ename": "NameError",
          "evalue": "ignored",
          "traceback": [
            "\u001b[0;31m---------------------------------------------------------------------------\u001b[0m",
            "\u001b[0;31mNameError\u001b[0m                                 Traceback (most recent call last)",
            "\u001b[0;32m<ipython-input-24-ce1d036ecd55>\u001b[0m in \u001b[0;36m<module>\u001b[0;34m()\u001b[0m\n\u001b[0;32m----> 1\u001b[0;31m \u001b[0mweekly_df\u001b[0m\u001b[0;34m.\u001b[0m\u001b[0mhead\u001b[0m\u001b[0;34m(\u001b[0m\u001b[0;34m)\u001b[0m\u001b[0;34m\u001b[0m\u001b[0;34m\u001b[0m\u001b[0m\n\u001b[0m",
            "\u001b[0;31mNameError\u001b[0m: name 'weekly_df' is not defined"
          ]
        }
      ]
    },
    {
      "cell_type": "code",
      "metadata": {
        "id": "lVCbk-vsAz-n",
        "outputId": "10a05488-8331-4da1-9360-b60fd39a21cc",
        "colab": {
          "base_uri": "https://localhost:8080/",
          "height": 181
        }
      },
      "source": [
        "daily_df = daily_df.loc[daily_df.index >= '2020-03-10']\n",
        "daily_df.head(n=3)"
      ],
      "execution_count": 25,
      "outputs": [
        {
          "output_type": "error",
          "ename": "NameError",
          "evalue": "ignored",
          "traceback": [
            "\u001b[0;31m---------------------------------------------------------------------------\u001b[0m",
            "\u001b[0;31mNameError\u001b[0m                                 Traceback (most recent call last)",
            "\u001b[0;32m<ipython-input-25-21cb9bcf1ba2>\u001b[0m in \u001b[0;36m<module>\u001b[0;34m()\u001b[0m\n\u001b[0;32m----> 1\u001b[0;31m \u001b[0mdaily_df\u001b[0m \u001b[0;34m=\u001b[0m \u001b[0mdaily_df\u001b[0m\u001b[0;34m.\u001b[0m\u001b[0mloc\u001b[0m\u001b[0;34m[\u001b[0m\u001b[0mdaily_df\u001b[0m\u001b[0;34m.\u001b[0m\u001b[0mindex\u001b[0m \u001b[0;34m>=\u001b[0m \u001b[0;34m'2020-03-10'\u001b[0m\u001b[0;34m]\u001b[0m\u001b[0;34m\u001b[0m\u001b[0;34m\u001b[0m\u001b[0m\n\u001b[0m\u001b[1;32m      2\u001b[0m \u001b[0mdaily_df\u001b[0m\u001b[0;34m.\u001b[0m\u001b[0mhead\u001b[0m\u001b[0;34m(\u001b[0m\u001b[0mn\u001b[0m\u001b[0;34m=\u001b[0m\u001b[0;36m3\u001b[0m\u001b[0;34m)\u001b[0m\u001b[0;34m\u001b[0m\u001b[0;34m\u001b[0m\u001b[0m\n",
            "\u001b[0;31mNameError\u001b[0m: name 'daily_df' is not defined"
          ]
        }
      ]
    },
    {
      "cell_type": "code",
      "metadata": {
        "id": "ZQLlg3g4OvWh"
      },
      "source": [
        "plt.figure(figsize=(16,8))\n",
        "plt.title('Daily Confirmed Cases of COVID-19 (World)')\n",
        "plt.plot(daily_df['Confirmed_Cases'])\n",
        "plt.xlabel('Date', fontsize=18)\n",
        "plt.ylabel('Confirmed Cases', fontsize=18)\n",
        "plt.show()"
      ],
      "execution_count": null,
      "outputs": []
    },
    {
      "cell_type": "markdown",
      "metadata": {
        "id": "C8ivtMFNTyEs"
      },
      "source": [
        "#**5- Modelling**\n"
      ]
    },
    {
      "cell_type": "code",
      "metadata": {
        "id": "IVFBqHaJBM2J"
      },
      "source": [
        "#Lstm\n",
        "data=aggr_df.filter(['Confirmed'])"
      ],
      "execution_count": 79,
      "outputs": []
    },
    {
      "cell_type": "code",
      "metadata": {
        "id": "Uucawvui-7iT"
      },
      "source": [
        "dataset=aggr_df.values"
      ],
      "execution_count": 80,
      "outputs": []
    },
    {
      "cell_type": "code",
      "metadata": {
        "id": "BMJiPPce_C3A"
      },
      "source": [
        "training_data_len=math.ceil(len(dataset)*.8)"
      ],
      "execution_count": 81,
      "outputs": []
    },
    {
      "cell_type": "code",
      "metadata": {
        "id": "LqoNjyXg_qjc"
      },
      "source": [
        "training_data_len"
      ],
      "execution_count": null,
      "outputs": []
    },
    {
      "cell_type": "code",
      "metadata": {
        "id": "YgLle6F7_0DK"
      },
      "source": [
        "scaler=MinMaxScaler(feature_range=(0,1))"
      ],
      "execution_count": 83,
      "outputs": []
    },
    {
      "cell_type": "code",
      "metadata": {
        "id": "QUPaY-3DAE9v"
      },
      "source": [
        "scaled_data=scaler.fit_transform(dataset)"
      ],
      "execution_count": 84,
      "outputs": []
    },
    {
      "cell_type": "code",
      "metadata": {
        "id": "CQgo0uoxAZT9"
      },
      "source": [
        "scaled_data"
      ],
      "execution_count": null,
      "outputs": []
    },
    {
      "cell_type": "code",
      "metadata": {
        "id": "2TtxrK2kBS8F",
        "outputId": "87e86f76-7a27-476d-c702-a8b717dcb985",
        "colab": {
          "base_uri": "https://localhost:8080/"
        }
      },
      "source": [
        "# create the training dataset\n",
        "# create the scaled training dataset\n",
        "train_data=scaled_data[0:training_data_len,:]\n",
        "# split the data into x_train and y_train dataset\n",
        "x_train = []\n",
        "y_train = []\n",
        "\n",
        "for i in range (12, len(train_data)):\n",
        "  x_train.append(train_data[i-12:i,0])\n",
        "  y_train.append(train_data[i,0])\n",
        "  if i<= 12:\n",
        "    print(x_train)\n",
        "    print(y_train)\n",
        "    print()"
      ],
      "execution_count": 86,
      "outputs": [
        {
          "output_type": "stream",
          "text": [
            "[array([0.        , 0.04458599, 0.07006369, 0.08280255, 0.12738854,\n",
            "       0.12101911, 0.15923567, 0.15286624, 0.15923567, 0.17197452,\n",
            "       0.1910828 , 0.21656051])]\n",
            "[0.624203821656051]\n",
            "\n"
          ],
          "name": "stdout"
        }
      ]
    },
    {
      "cell_type": "code",
      "metadata": {
        "id": "oZl7H0pBChBy",
        "outputId": "1e2b2a96-c815-4174-f808-9f137cddfc95",
        "colab": {
          "base_uri": "https://localhost:8080/"
        }
      },
      "source": [
        "# Convert the x_train and y_train to numpy arrays\n",
        "x_train, y_train = np.array(x_train), np.array(y_train)\n",
        "x_train"
      ],
      "execution_count": 87,
      "outputs": [
        {
          "output_type": "execute_result",
          "data": {
            "text/plain": [
              "array([[0.        , 0.04458599, 0.07006369, 0.08280255, 0.12738854,\n",
              "        0.12101911, 0.15923567, 0.15286624, 0.15923567, 0.17197452,\n",
              "        0.1910828 , 0.21656051],\n",
              "       [0.04458599, 0.07006369, 0.08280255, 0.12738854, 0.12101911,\n",
              "        0.15923567, 0.15286624, 0.15923567, 0.17197452, 0.1910828 ,\n",
              "        0.21656051, 0.62420382]])"
            ]
          },
          "metadata": {
            "tags": []
          },
          "execution_count": 87
        }
      ]
    },
    {
      "cell_type": "code",
      "metadata": {
        "id": "901KPDDeCpu5",
        "outputId": "380d8dd1-a08a-4a7c-e397-7a5832ac87d8",
        "colab": {
          "base_uri": "https://localhost:8080/"
        }
      },
      "source": [
        "# Reshap the data\n",
        "x_train=np.reshape(x_train, (x_train.shape[0], x_train.shape[1],1))\n",
        "x_train.shape"
      ],
      "execution_count": 88,
      "outputs": [
        {
          "output_type": "execute_result",
          "data": {
            "text/plain": [
              "(2, 12, 1)"
            ]
          },
          "metadata": {
            "tags": []
          },
          "execution_count": 88
        }
      ]
    },
    {
      "cell_type": "code",
      "metadata": {
        "id": "Qo5bwUE-Cz9g"
      },
      "source": [
        "# build the LSTM model\n",
        "model=Sequential()\n",
        "model.add(LSTM(40, return_sequences=True,input_shape=(x_train.shape[1],1)))\n",
        "model.add(LSTM(40, return_sequences=False))\n",
        "model.add(Dense(25))\n",
        "model.add(Dense(1))"
      ],
      "execution_count": 89,
      "outputs": []
    },
    {
      "cell_type": "code",
      "metadata": {
        "id": "Ph3rquB-DZsX",
        "outputId": "a754b201-7b40-4edc-81b9-41b542a57d36",
        "colab": {
          "base_uri": "https://localhost:8080/"
        }
      },
      "source": [
        "# train the model\n",
        "model.fit(x_train,y_train,batch_size=1,epochs=1)"
      ],
      "execution_count": 91,
      "outputs": [
        {
          "output_type": "stream",
          "text": [
            "2/2 [==============================] - 0s 6ms/step - loss: 0.4434\n"
          ],
          "name": "stdout"
        },
        {
          "output_type": "execute_result",
          "data": {
            "text/plain": [
              "<tensorflow.python.keras.callbacks.History at 0x7f754031fef0>"
            ]
          },
          "metadata": {
            "tags": []
          },
          "execution_count": 91
        }
      ]
    },
    {
      "cell_type": "code",
      "metadata": {
        "id": "Mxp-MSYPDOzz"
      },
      "source": [
        "# compile the model\n",
        "model.compile(optimizer='adam',loss='mean_squared_error')"
      ],
      "execution_count": 90,
      "outputs": []
    },
    {
      "cell_type": "code",
      "metadata": {
        "id": "I8b3sFhSEDiL"
      },
      "source": [
        "test_data=scaled_data[training_data_len -12:,:]\n",
        "x_test= []\n",
        "y_test = dataset[training_data_len:,:]\n",
        "for i in range(12, len(test_data)):\n",
        "  x_test.append(test_data[i -12:i,0])"
      ],
      "execution_count": 92,
      "outputs": []
    },
    {
      "cell_type": "code",
      "metadata": {
        "id": "RuY3KUkGEOYA"
      },
      "source": [
        "x_test=np.array(x_test)"
      ],
      "execution_count": 93,
      "outputs": []
    },
    {
      "cell_type": "code",
      "metadata": {
        "id": "IrrrGaW1EQuf",
        "outputId": "8bc16ae1-9e25-4d7e-d53b-bed388093491",
        "colab": {
          "base_uri": "https://localhost:8080/"
        }
      },
      "source": [
        "x_test"
      ],
      "execution_count": 94,
      "outputs": [
        {
          "output_type": "execute_result",
          "data": {
            "text/plain": [
              "array([[0.07006369, 0.08280255, 0.12738854, 0.12101911, 0.15923567,\n",
              "        0.15286624, 0.15923567, 0.17197452, 0.1910828 , 0.21656051,\n",
              "        0.62420382, 0.72611465],\n",
              "       [0.08280255, 0.12738854, 0.12101911, 0.15923567, 0.15286624,\n",
              "        0.15923567, 0.17197452, 0.1910828 , 0.21656051, 0.62420382,\n",
              "        0.72611465, 0.78343949],\n",
              "       [0.12738854, 0.12101911, 0.15923567, 0.15286624, 0.15923567,\n",
              "        0.17197452, 0.1910828 , 0.21656051, 0.62420382, 0.72611465,\n",
              "        0.78343949, 0.89808917]])"
            ]
          },
          "metadata": {
            "tags": []
          },
          "execution_count": 94
        }
      ]
    },
    {
      "cell_type": "code",
      "metadata": {
        "id": "dLKwuQ2mEUY-"
      },
      "source": [
        "x_test=np.reshape(x_test,(x_test.shape[0], x_test.shape[1],1))"
      ],
      "execution_count": 95,
      "outputs": []
    },
    {
      "cell_type": "code",
      "metadata": {
        "id": "u2GibjoyEco3"
      },
      "source": [
        "predictions=model.predict(x_test)\n",
        "predictions=scaler.inverse_transform(predictions)"
      ],
      "execution_count": 96,
      "outputs": []
    },
    {
      "cell_type": "code",
      "metadata": {
        "id": "oCknKvIiDSvC"
      },
      "source": [
        "rmse=np.sqrt(np.mean(predictions - y_test)**2)"
      ],
      "execution_count": 97,
      "outputs": []
    },
    {
      "cell_type": "code",
      "metadata": {
        "id": "4UAIiiUzDStS",
        "outputId": "3446c8d6-c16c-49fb-eecf-bb3d06d0f811",
        "colab": {
          "base_uri": "https://localhost:8080/"
        }
      },
      "source": [
        "rmse"
      ],
      "execution_count": 98,
      "outputs": [
        {
          "output_type": "execute_result",
          "data": {
            "text/plain": [
              "130.11727078755698"
            ]
          },
          "metadata": {
            "tags": []
          },
          "execution_count": 98
        }
      ]
    },
    {
      "cell_type": "code",
      "metadata": {
        "id": "auMST9VMFXil"
      },
      "source": [
        "train=aggr_df[:training_data_len]\n",
        "valid=aggr_df[training_data_len:]"
      ],
      "execution_count": 100,
      "outputs": []
    },
    {
      "cell_type": "code",
      "metadata": {
        "id": "9U1h6R3DGG_4"
      },
      "source": [
        "valid['Predictions']=predictions"
      ],
      "execution_count": 101,
      "outputs": []
    },
    {
      "cell_type": "code",
      "metadata": {
        "id": "L0bIwuB0J-nn",
        "outputId": "1ac7531b-a6d0-4236-a2c7-61c51c05eaeb",
        "colab": {
          "base_uri": "https://localhost:8080/",
          "height": 173
        }
      },
      "source": [
        "valid.head()"
      ],
      "execution_count": 102,
      "outputs": [
        {
          "output_type": "execute_result",
          "data": {
            "text/html": [
              "<div>\n",
              "<style scoped>\n",
              "    .dataframe tbody tr th:only-of-type {\n",
              "        vertical-align: middle;\n",
              "    }\n",
              "\n",
              "    .dataframe tbody tr th {\n",
              "        vertical-align: top;\n",
              "    }\n",
              "\n",
              "    .dataframe thead th {\n",
              "        text-align: right;\n",
              "    }\n",
              "</style>\n",
              "<table border=\"1\" class=\"dataframe\">\n",
              "  <thead>\n",
              "    <tr style=\"text-align: right;\">\n",
              "      <th></th>\n",
              "      <th>Confirmed_Cases</th>\n",
              "      <th>Predictions</th>\n",
              "    </tr>\n",
              "    <tr>\n",
              "      <th>Date</th>\n",
              "      <th></th>\n",
              "      <th></th>\n",
              "    </tr>\n",
              "  </thead>\n",
              "  <tbody>\n",
              "    <tr>\n",
              "      <th>2020-03-24</th>\n",
              "      <td>140</td>\n",
              "      <td>26.088554</td>\n",
              "    </tr>\n",
              "    <tr>\n",
              "      <th>2020-03-25</th>\n",
              "      <td>158</td>\n",
              "      <td>27.168270</td>\n",
              "    </tr>\n",
              "    <tr>\n",
              "      <th>2020-03-26</th>\n",
              "      <td>174</td>\n",
              "      <td>28.391363</td>\n",
              "    </tr>\n",
              "  </tbody>\n",
              "</table>\n",
              "</div>"
            ],
            "text/plain": [
              "            Confirmed_Cases  Predictions\n",
              "Date                                    \n",
              "2020-03-24              140    26.088554\n",
              "2020-03-25              158    27.168270\n",
              "2020-03-26              174    28.391363"
            ]
          },
          "metadata": {
            "tags": []
          },
          "execution_count": 102
        }
      ]
    },
    {
      "cell_type": "code",
      "metadata": {
        "id": "S9o1cWAPG85L",
        "outputId": "e85abd2f-70b0-4105-ad29-aed877108e7d",
        "colab": {
          "base_uri": "https://localhost:8080/",
          "height": 468
        }
      },
      "source": [
        "plt.figure(figsize=(16,8))\n",
        "plt.title('Model')\n",
        "plt.xlabel('Date',fontsize=18)\n",
        "plt.ylabel('Confirmed Cases',fontsize=18)\n",
        "plt.plot(train['Confirmed_Cases'])\n",
        "plt.plot(valid[['Confirmed_Cases','Predictions']])\n",
        "plt.legend(['Train','Val','Predictions'],loc='lower right')"
      ],
      "execution_count": 103,
      "outputs": [
        {
          "output_type": "execute_result",
          "data": {
            "text/plain": [
              "<matplotlib.legend.Legend at 0x7f753f352be0>"
            ]
          },
          "metadata": {
            "tags": []
          },
          "execution_count": 103
        },
        {
          "output_type": "display_data",
          "data": {
            "image/png": "[encoded data removed]",
            "text/plain": [
              "<Figure size 1152x576 with 1 Axes>"
            ]
          },
          "metadata": {
            "tags": []
          }
        }
      ]
    },
    {
      "cell_type": "markdown",
      "metadata": {
        "id": "QmrbiUI8sjn8"
      },
      "source": [
        "# **References**\n",
        "\n",
        "[1]Forecasting Time Series Data With Prophet I & II\n",
        "https://nextjournal.com/eric-brown/forecasting-with-prophet\n",
        "\n",
        "[2]Forecasting Time Series Data With Prophet IV\n",
        "https://nextjournal.com/eric-brown/forecasting-with-prophet-part-4\n",
        "\n",
        "[3]Time series analysis in Python\n",
        "https://mlcourse.ai/articles/topic9-part2-prophet/\n",
        "\n",
        "[4] https://www.kaggle.com/kashnitsky/topic-9-part-2-time-series-with-facebook-prophet\n",
        "\n",
        "[5] How To Predict Coronavirus (COVID-19) Cases Using Deep Learning in Python\n",
        "https://laconicml.com/predict-coronavirus-cases-deep-learning/"
      ]
    }
  ]
}